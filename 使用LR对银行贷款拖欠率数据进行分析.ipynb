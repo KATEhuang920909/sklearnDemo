{
 "cells": [
  {
   "cell_type": "markdown",
   "metadata": {
    "collapsed": true
   },
   "source": [
    "# 使用LR对银行贷款拖欠率数据进行分析"
   ]
  },
  {
   "cell_type": "code",
   "execution_count": 1,
   "metadata": {},
   "outputs": [],
   "source": [
    "import pandas as  pd"
   ]
  },
  {
   "cell_type": "code",
   "execution_count": 2,
   "metadata": {},
   "outputs": [],
   "source": [
    "filename =r'bankloan.xls'"
   ]
  },
  {
   "cell_type": "code",
   "execution_count": 4,
   "metadata": {},
   "outputs": [],
   "source": [
    "data =pd.read_excel(filename)\n",
    "x =data.iloc[:,:8].as_matrix()\n",
    "y=data.iloc[:,8].as_matrix()"
   ]
  },
  {
   "cell_type": "code",
   "execution_count": 5,
   "metadata": {},
   "outputs": [
    {
     "data": {
      "text/plain": [
       "array([[41.      ,  3.      , 17.      , ...,  9.3     , 11.359392,\n",
       "         5.008608],\n",
       "       [27.      ,  1.      , 10.      , ..., 17.3     ,  1.362202,\n",
       "         4.000798],\n",
       "       [40.      ,  1.      , 15.      , ...,  5.5     ,  0.856075,\n",
       "         2.168925],\n",
       "       ...,\n",
       "       [33.      ,  1.      , 15.      , ...,  7.6     ,  0.491264,\n",
       "         1.940736],\n",
       "       [45.      ,  1.      , 19.      , ...,  8.4     ,  2.302608,\n",
       "         4.165392],\n",
       "       [37.      ,  1.      , 12.      , ..., 14.7     ,  2.994684,\n",
       "         3.473316]])"
      ]
     },
     "execution_count": 5,
     "metadata": {},
     "output_type": "execute_result"
    }
   ],
   "source": [
    "x"
   ]
  },
  {
   "cell_type": "code",
   "execution_count": 21,
   "metadata": {
    "scrolled": true
   },
   "outputs": [],
   "source": [
    "data0=data.drop(['违约'],axis=1)"
   ]
  },
  {
   "cell_type": "code",
   "execution_count": 24,
   "metadata": {},
   "outputs": [
    {
     "name": "stderr",
     "output_type": "stream",
     "text": [
      "i:\\python\\lib\\site-packages\\sklearn\\utils\\deprecation.py:58: DeprecationWarning: Class RandomizedLogisticRegression is deprecated; The class RandomizedLogisticRegression is deprecated in 0.19 and will be removed in 0.21.\n",
      "  warnings.warn(msg, category=DeprecationWarning)\n"
     ]
    },
    {
     "name": "stdout",
     "output_type": "stream",
     "text": [
      "有效特征为:工龄,地址,负债率,信用卡负债\n"
     ]
    }
   ],
   "source": [
    "#随机逻辑回归进行筛选\n",
    "from sklearn.linear_model import LogisticRegression as LR\n",
    "from sklearn.linear_model import RandomizedLogisticRegression as RLR\n",
    "rlr =RLR()\n",
    "rlr.fit(x,y)\n",
    "rlr.get_support()\n",
    "print(\"有效特征为:%s\" %','.join(data0.columns[rlr.get_support()]))"
   ]
  },
  {
   "cell_type": "code",
   "execution_count": 25,
   "metadata": {
    "scrolled": true
   },
   "outputs": [
    {
     "name": "stdout",
     "output_type": "stream",
     "text": [
      "PCA(copy=True, iterated_power='auto', n_components=None, random_state=None,\n",
      "  svd_solver='auto', tol=0.0, whiten=False)\n",
      "[8.89412446e-01 4.62383963e-02 3.29260558e-02 1.66375513e-02\n",
      " 1.15684066e-02 1.72564426e-03 1.06065565e-03 4.30843900e-04]\n"
     ]
    }
   ],
   "source": [
    "from sklearn.decomposition import PCA\n",
    "pca=PCA()\n",
    "print(pca.fit(data0))\n",
    "print(pca.explained_variance_ratio_)"
   ]
  },
  {
   "cell_type": "code",
   "execution_count": 29,
   "metadata": {},
   "outputs": [
    {
     "data": {
      "text/plain": [
       "array([False, False,  True,  True, False,  True,  True, False])"
      ]
     },
     "execution_count": 29,
     "metadata": {},
     "output_type": "execute_result"
    }
   ],
   "source": [
    "rlr.get_support()"
   ]
  },
  {
   "cell_type": "code",
   "execution_count": 35,
   "metadata": {},
   "outputs": [
    {
     "name": "stdout",
     "output_type": "stream",
     "text": [
      "正确率：0.8142857142857143\n"
     ]
    }
   ],
   "source": [
    "x=data0[data0.columns[rlr.get_support()]]#.as_matrix()\n",
    "lr=LR()\n",
    "lr.fit(x,y)\n",
    "print(\"正确率：%s\" % lr.score(x,y))"
   ]
  },
  {
   "cell_type": "code",
   "execution_count": 36,
   "metadata": {},
   "outputs": [
    {
     "name": "stdout",
     "output_type": "stream",
     "text": [
      "正确率：0.8057142857142857\n"
     ]
    }
   ],
   "source": [
    "x=data0#[data0.columns[rlr.get_support()]]#.as_matrix()\n",
    "lr=LR()\n",
    "lr.fit(x,y)\n",
    "print(\"正确率：%s\" % lr.score(x,y))"
   ]
  },
  {
   "cell_type": "markdown",
   "metadata": {},
   "source": [
    "# 特征筛选后的准确度有所提高"
   ]
  },
  {
   "cell_type": "code",
   "execution_count": null,
   "metadata": {},
   "outputs": [],
   "source": []
  }
 ],
 "metadata": {
  "kernelspec": {
   "display_name": "Python 3",
   "language": "python",
   "name": "python3"
  },
  "language_info": {
   "codemirror_mode": {
    "name": "ipython",
    "version": 3
   },
   "file_extension": ".py",
   "mimetype": "text/x-python",
   "name": "python",
   "nbconvert_exporter": "python",
   "pygments_lexer": "ipython3",
   "version": "3.6.1"
  }
 },
 "nbformat": 4,
 "nbformat_minor": 1
}
